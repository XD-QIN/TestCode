{
 "cells": [
  {
   "cell_type": "code",
   "execution_count": 51,
   "metadata": {},
   "outputs": [],
   "source": [
    "import numpy as np\n",
    "import matplotlib.pyplot as plt\n",
    "import scipy.optimize as opt # we'll need this later\n",
    "import scipy.io as sio"
   ]
  },
  {
   "cell_type": "code",
   "execution_count": 52,
   "metadata": {},
   "outputs": [],
   "source": [
    "dataset = sio.loadmat(\"motions10fps.mat\")"
   ]
  },
  {
   "cell_type": "code",
   "execution_count": 53,
   "metadata": {},
   "outputs": [
    {
     "name": "stdout",
     "output_type": "stream",
     "text": [
      "16\n",
      "154\n",
      "299\n",
      "0\n",
      "[2.00833292 2.84167129]\n",
      "[[2.00833292 2.84167129]\n",
      " [2.00833292 2.84167129]]\n"
     ]
    },
    {
     "data": {
      "text/plain": [
       "0"
      ]
     },
     "execution_count": 53,
     "metadata": {},
     "output_type": "execute_result"
    }
   ],
   "source": [
    "dataset[\"allData\"][0,0][:,1].shape[0] # video 1, user 1, Y ----- i = video#, j = user ID, k = different angle\n",
    "#dataset[\"allData\"][0, 0][0,:].shape[0]\n",
    "print(dataset[\"allData\"].shape[0])\n",
    "print(dataset[\"allData\"].shape[1])\n",
    "print(dataset[\"allData\"][0, 0][:,:].shape[0])\n",
    "print(dataset[\"allData\"][0, 3].shape[1])\n",
    "print(dataset[\"allData\"][0, 0][0:2,1])\n",
    "a = np.array([])\n",
    "a = np.hstack((a, dataset[\"allData\"][0, 0][0:2,1]))\n",
    "a = np.vstack((a, dataset[\"allData\"][0, 0][0:2,1]))\n",
    "print(a)\n",
    "b = np.array([])\n",
    "b.shape[0]"
   ]
  },
  {
   "cell_type": "code",
   "execution_count": 84,
   "metadata": {},
   "outputs": [
    {
     "name": "stdout",
     "output_type": "stream",
     "text": [
      "0 0\n"
     ]
    }
   ],
   "source": [
    "window_length = 2\n",
    "X = np.array([])\n",
    "X_output = np.array([])\n",
    "Y = np.array([])\n",
    "Y_output = np.array([])\n",
    "Z = np.array([])\n",
    "Z_output =np.array([])\n",
    "for i in range(1):#(dataset[\"allData\"].shape[0]): #16\n",
    "    for j in range(1):#(dataset[\"allData\"].shape[1]): #154\n",
    "        if dataset[\"allData\"][i, j].shape[1] !=0: # not empty\n",
    "            for k in range(dataset[\"allData\"][i, j][0,:].shape[0]): #4 \n",
    "                    for l in range(dataset[\"allData\"][i, j][:,:].shape[0]): #299\n",
    "                        m = 0\n",
    "                        p = 0\n",
    "                        q = 0\n",
    "                        if k == 1: \n",
    "                            while m+window_length  <= dataset[\"allData\"][i, j][:,:].shape[0] - 1:\n",
    "                                if Y.shape[0] == 0:\n",
    "                                    Y = np.hstack((Y, dataset[\"allData\"][i, j][m:m+window_length,1]))\n",
    "                                    Y_output = np.hstack((Y_output, dataset[\"allData\"][i, j][m+window_length,1]))\n",
    "                                else:\n",
    "                                    Y = np.vstack((Y, dataset[\"allData\"][i, j][m:m+window_length,1]))\n",
    "                                    Y_output = np.vstack((Y_output, dataset[\"allData\"][i, j][m+window_length,1]))\n",
    "                                m = m + 1\n",
    "                        if k == 2:\n",
    "                            while p+window_length  <= dataset[\"allData\"][i, j][:,:].shape[0] - 1:  \n",
    "                                if X.shape[0] == 0:\n",
    "                                    X = np.hstack((X, dataset[\"allData\"][i, j][p:p+window_length,2]))\n",
    "                                    X_output = np.hstack((X_output, dataset[\"allData\"][i, j][p+window_length,2]))\n",
    "                                else:\n",
    "                                    X = np.vstack((X, dataset[\"allData\"][i, j][p:p+window_length,2])) \n",
    "                                    X_output = np.vstack((X_output, dataset[\"allData\"][i, j][p+window_length,2]))\n",
    "                                p = p + 1\n",
    "                        if k == 3:\n",
    "                            while q+window_length  <= dataset[\"allData\"][i, j][:,:].shape[0] - 1: \n",
    "                                if Z.shape[0] == 0:\n",
    "                                    Z = np.hstack((Z, dataset[\"allData\"][i, j][q:q+window_length,3]))\n",
    "                                    Z_output = np.hstack((Z_output, dataset[\"allData\"][i, j][q+window_length,3]))\n",
    "                                else:\n",
    "                                    Z = np.vstack((Z, dataset[\"allData\"][i, j][q:q+window_length,3])) \n",
    "                                    Z_output = np.vstack((Z_output, dataset[\"allData\"][i, j][q+window_length,3]))\n",
    "                                q = q + 1\n",
    "        print(i, j) # i--video ID, j--user ID"
   ]
  },
  {
   "cell_type": "code",
   "execution_count": 89,
   "metadata": {},
   "outputs": [
    {
     "name": "stdout",
     "output_type": "stream",
     "text": [
      "[[ 2.00833292  2.84167129  3.6750039 ]\n",
      " [ 2.84167129  3.6750039   4.        ]\n",
      " [ 3.6750039   4.          4.        ]\n",
      " ...\n",
      " [ 9.59996588 11.26663225 12.93334555]\n",
      " [11.26663225 12.93334555 12.19999513]\n",
      " [12.93334555 12.19999513 12.63333648]]\n",
      "[[ 4.        ]\n",
      " [ 4.        ]\n",
      " [ 3.72034349]\n",
      " ...\n",
      " [12.19999513]\n",
      " [12.63333648]\n",
      " [13.        ]]\n"
     ]
    }
   ],
   "source": [
    "print(Y)\n",
    "print(Y_output)"
   ]
  },
  {
   "cell_type": "code",
   "execution_count": null,
   "metadata": {},
   "outputs": [],
   "source": []
  },
  {
   "cell_type": "code",
   "execution_count": null,
   "metadata": {},
   "outputs": [],
   "source": []
  }
 ],
 "metadata": {
  "kernelspec": {
   "display_name": "Python 3",
   "language": "python",
   "name": "python3"
  },
  "language_info": {
   "codemirror_mode": {
    "name": "ipython",
    "version": 3
   },
   "file_extension": ".py",
   "mimetype": "text/x-python",
   "name": "python",
   "nbconvert_exporter": "python",
   "pygments_lexer": "ipython3",
   "version": "3.7.3"
  }
 },
 "nbformat": 4,
 "nbformat_minor": 2
}
